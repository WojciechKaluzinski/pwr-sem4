{
 "cells": [
  {
   "cell_type": "markdown",
   "metadata": {},
   "source": [
    "# Lista 1\n",
    "\n",
    "## Kurs wybranego języka programowania (Python)\n",
    "\n",
    "Wszystkie rozwiązania proszę wpisać w tym notatniku poniżej treści zadań. Zadania z `*` to zadania dodatkowe."
   ]
  },
  {
   "cell_type": "markdown",
   "metadata": {},
   "source": [
    "## Zadanie 1 _(5pt)_\n",
    "\n",
    "Napisz funkcję, który wyświetla trójkąt Pascala o zadanej wysokości\n",
    "```\n",
    "                1\n",
    "              1   1\n",
    "            1   2   1\n",
    "          1   3   3   1\n",
    "        1   4   6   4   1\n",
    "      .....................\n",
    "```"
   ]
  },
  {
   "cell_type": "code",
   "execution_count": 8,
   "metadata": {},
   "outputs": [
    {
     "name": "stdout",
     "output_type": "stream",
     "text": [
      "                       1 \n",
      "                     1   1 \n",
      "                   1   2   1 \n",
      "                 1   3   3   1 \n",
      "               1   4   6   4   1 \n",
      "             1   5  10  10   5   1 \n",
      "           1   6  15  20  15   6   1 \n",
      "         1   7  21  35  35  21   7   1 \n",
      "       1   8  28  56  70  56  28   8   1 \n",
      "     1   9  36  84 126 126  84  36   9   1 \n"
     ]
    }
   ],
   "source": [
    "def pascal_triangle(n):\n",
    "    tab=[]\n",
    "    for i in range(n):\n",
    "        tab.append([])\n",
    "        tab[i].append(1)\n",
    "        for j in range(1,i):\n",
    "            tab[i].append(tab[i-1][j-1]+tab[i-1][j])\n",
    "        if(n!=0):\n",
    "            tab[i].append(1)\n",
    "    for i in range(n):\n",
    "        print(\"  \"*(n-i),end=\" \",sep=\" \")\n",
    "        for j in range(0,i+1):\n",
    "            print('{0:3}'.format(tab[i][j]),end=\" \",sep=\" \")\n",
    "        print()\n",
    "pascal_triangle(10)\n",
    "\n",
    "\n"
   ]
  },
  {
   "cell_type": "markdown",
   "metadata": {},
   "source": [
    "## Zadanie 2 _(5pt)_\n",
    "\n",
    "Napisz funkcję `primes(n)` zwracająca listę liczb pierwszych nie większych niż $n$ np.\n",
    "\n",
    "```\n",
    "In [ ]:   primes(6)\n",
    "Out [ ]: [2, 3, 5]\n",
    "```"
   ]
  },
  {
   "cell_type": "code",
   "execution_count": 14,
   "metadata": {},
   "outputs": [],
   "source": [
    "def primes(n):                  \n",
    "    L = [0] + n * [1]\n",
    "    for p in range(2, n):     \n",
    "        q = p * p\n",
    "        if q > n:\n",
    "            break\n",
    "        if L[p] == 1:         \n",
    "            for i in range(q, n+1, p):\n",
    "                L[i] = 0\n",
    "    return [i for i in range(2, n+1) if L[i]==1]\n"
   ]
  },
  {
   "cell_type": "code",
   "execution_count": 15,
   "metadata": {},
   "outputs": [
    {
     "data": {
      "text/plain": [
       "[2, 3, 5, 7, 11, 13, 17, 19, 23]"
      ]
     },
     "execution_count": 15,
     "metadata": {},
     "output_type": "execute_result"
    }
   ],
   "source": [
    "primes(25)"
   ]
  },
  {
   "cell_type": "markdown",
   "metadata": {},
   "source": [
    "## Zadanie 3 _(5pt)_\n",
    "\n",
    "Napisz funkcje, która usuwa wszystkie powtarzające się elementy z listy (tak, że każdy element występuje tylko raz) np. z listy `[1,1,2,2,2,3,3,5,5,5,4,4,4,0]` dostajemy `[1,2,3,5,4,0]`."
   ]
  },
  {
   "cell_type": "code",
   "execution_count": 10,
   "metadata": {},
   "outputs": [
    {
     "data": {
      "text/plain": [
       "[1, 2, 3, 5, 4, 0]"
      ]
     },
     "execution_count": 10,
     "metadata": {},
     "output_type": "execute_result"
    }
   ],
   "source": [
    "\n",
    "def unic(tab):\n",
    "   # unic = set()\n",
    "    #for i in range(len(tab)-1,-1,-1):\n",
    "     #   if tab[i] in unic:\n",
    "      #      del tab[i]\n",
    "       # else:\n",
    "        #    unic.add(tab[i])\n",
    "        #return tab\n",
    "    #new_list = list(set(tab))\n",
    "    #print (new_list)\n",
    "    return list(dict.fromkeys(tab))\n",
    "unic([1,1,2,2,2,3,3,5,5,5,4,4,4,0,4])"
   ]
  },
  {
   "cell_type": "markdown",
   "metadata": {},
   "source": [
    "## Zadanie 4 _(10pt)_\n",
    "\n",
    "Napisz funkcję `prime_factors(n)`, która rozkłada $n$ na czynniki pierwsze i jako wynik wraca listę par $[(p_1,\\alpha_1), (p_2,\\alpha_2), \\ldots, (p_k, \\alpha_k)]$ taką, że $p_1^{\\alpha_1}p_2^{\\alpha_2}\\ldots p_k^{\\alpha_k}$.\n"
   ]
  },
  {
   "cell_type": "code",
   "execution_count": 1,
   "metadata": {},
   "outputs": [],
   "source": [
    "def prime_factors(n):\n",
    "    prime = []\n",
    "    i = 2\n",
    "    while i*i <= n:\n",
    "        counter = 0         \n",
    "        while n % i == 0:\n",
    "            n //= i\n",
    "            counter += 1\n",
    "        if counter != 0:\n",
    "            prime.append((i,counter))\n",
    "        i += 1\n",
    "    if n > 1:\n",
    "        prime.append((n,1))\n",
    "    return prime"
   ]
  },
  {
   "cell_type": "code",
   "execution_count": 2,
   "metadata": {},
   "outputs": [
    {
     "name": "stdout",
     "output_type": "stream",
     "text": [
      "[(2, 2), (23, 1)]\n"
     ]
    }
   ],
   "source": [
    "print(prime_factors(92))"
   ]
  },
  {
   "cell_type": "markdown",
   "metadata": {},
   "source": [
    "## Zadanie 5 _(10pt)_\n",
    "\n",
    "Napisz funkcję `fraczero(n)` liczącą silnie $n!$ dla $n$ od $0$ do $10000$ oraz jako wynik wraca liczbę zer na końcu $n!$."
   ]
  },
  {
   "cell_type": "code",
   "execution_count": 7,
   "metadata": {},
   "outputs": [],
   "source": [
    "def franczero(n):\n",
    "    nulls = 0\n",
    "    pot = 1\n",
    "    while 5**pot <= n:\n",
    "        nulls += int(n/(5**pot))\n",
    "        pot += 1\n",
    "    return nulls"
   ]
  },
  {
   "cell_type": "code",
   "execution_count": 8,
   "metadata": {},
   "outputs": [
    {
     "data": {
      "text/plain": [
       "2499"
      ]
     },
     "execution_count": 8,
     "metadata": {},
     "output_type": "execute_result"
    }
   ],
   "source": [
    "franczero(10000)"
   ]
  },
  {
   "cell_type": "markdown",
   "metadata": {},
   "source": [
    "## Zadanie 6 _(10pt)_\n",
    "\n",
    "Napisz program, który generuje liczbę $20$ liczb losowych (rozkład jednostajny) od $1$ do $100$\n",
    "* Wyświetl listę wygenerowanych liczb\n",
    "* Wyświetl średnią\n",
    "* Wyświetl największą i najmniejszą wartość\n",
    "* Wyświetl drugą największą i drugą najmniejszą wartość na liście\n",
    "* Wyświetl ile jest liczb parzystych na liście\n",
    " "
   ]
  },
  {
   "cell_type": "code",
   "execution_count": 13,
   "metadata": {},
   "outputs": [
    {
     "name": "stdout",
     "output_type": "stream",
     "text": [
      "[2, 2, 15, 49, 66, 35, 6, 97, 81, 21, 99, 63, 75, 14, 20, 4, 62, 56, 67, 64]\n",
      "średnia:  44.9\n",
      "największa wartość to:  99 a najmniejsza warośc to:  2\n",
      "druga największa wartość to:  97 a druga najmniejsza wartość to:  2\n",
      "ilość liczb parzystych to:  10\n"
     ]
    }
   ],
   "source": [
    "import random \n",
    "from statistics import mean\n",
    "import heapq\n",
    "random_numbers = []\n",
    "\n",
    "for i in range (0,20):\n",
    "    random_numbers.append(random.randint(1, 100))\n",
    "\n",
    "print(random_numbers)\n",
    "\n",
    "print(\"średnia: \", mean(random_numbers))\n",
    "\n",
    "print(\"największa wartość to: \", max(random_numbers), \"a najmniejsza warośc to: \", min(random_numbers))\n",
    "\n",
    "print(\"druga największa wartość to: \", heapq.nlargest(2, random_numbers)[-1], \"a druga najmniejsza wartość to: \", heapq.nsmallest(2, random_numbers)[-1])\n",
    "\n",
    "print(\"ilość liczb parzystych to: \", len([num for num in random_numbers if num % 2 == 0])) \n"
   ]
  },
  {
   "cell_type": "markdown",
   "metadata": {},
   "source": [
    "## Zadanie 7 _(10pt)_\n",
    "\n",
    "Załóżmy, że mamy następującą listę: `L = ['aababacaa', 'cabaabcca', 'aaabbcbacb', 'acababbaab', ...]` wygenerowaną losowo tzn. lista zawiera losowe ciągi znaków o zadanej długości z liter `'a'`, `'b'` i `'c'`. Takie wzorce występują w wielu miejscach np. sekwencje DNA. Użytkownik zawiera swój (wzorzec) ciąg znaków z literami i pustymi miejscami oznaczonymi przez `'*'` np. `\"a**a******\"`. Wykorzystaj słownik z kluczami zawierającymi indeksy znaków różnych od `'*'` i wartościami liter z wzorca. Napisz program, który znajduje wszystkie sekwencje z listy, które pasuje do podanego wzorca."
   ]
  },
  {
   "cell_type": "code",
   "execution_count": 5,
   "metadata": {},
   "outputs": [
    {
     "name": "stdout",
     "output_type": "stream",
     "text": [
      "pasujące słowo:  aababacaa\n",
      "pasujące słowo:  abcabcaaa\n"
     ]
    }
   ],
   "source": [
    "dic = {}\n",
    "tab = ['aababacaa', 'caaaabcca', 'aaabbcbac', 'acababbaab', 'acababccc', 'aaabcbccc', 'abcabcaaa']\n",
    "string = 'a**a******'\n",
    "for i in range(len(string)):\n",
    "    if (string[i] != '*'):\n",
    "        dic[i] = string[i]\n",
    "\n",
    "for j in range(len(tab)):\n",
    "    x=True\n",
    "    for i in range(len(tab[j])):\n",
    "        if (i in dic):\n",
    "            if (dic[i]!=tab[j][i]):     \n",
    "                x=False\n",
    "    if (x == True):\n",
    "        print(\"pasujące słowo: \", tab[j])"
   ]
  },
  {
   "cell_type": "markdown",
   "metadata": {},
   "source": [
    "## Zadanie 8 _(10pt)_\n",
    "\n",
    "Napisz program, który konwerteruje liczby rzymskie na liczby arabskie. Do zapisu liczb rzymskich używa\n",
    "się 7 liter: `I=1`, `V=5`, `X=10`, `L=50`, `C=100`, `D=500`, `M=1000`. Opis algorytmu zamiany z i na system rzymski można znaleźć np. [tutaj](http://www.algorytm.org/algorytmy-arytmetyczne/zamiana-z-i-na-system-rzymski.html)"
   ]
  },
  {
   "cell_type": "code",
   "execution_count": 35,
   "metadata": {},
   "outputs": [
    {
     "name": "stdout",
     "output_type": "stream",
     "text": [
      "I\n",
      "MMCCCXLV\n",
      "24\n",
      "3986\n"
     ]
    }
   ],
   "source": [
    "def int_to_roman(n):\n",
    "    numbers = [\n",
    "            1000, 900, 500, 400,\n",
    "            100, 90, 50, 40,\n",
    "            10, 9, 5, 4,\n",
    "            1\n",
    "            ]\n",
    "    roman = [\n",
    "            \"M\", \"CM\", \"D\", \"CD\",\n",
    "            \"C\", \"XC\", \"L\", \"XL\",\n",
    "            \"X\", \"IX\", \"V\", \"IV\",\n",
    "            \"I\"\n",
    "            ]\n",
    "    roman_number = ''\n",
    "    i = 0\n",
    "    while  n > 0:\n",
    "        for _ in range(n // numbers[i]):\n",
    "            roman_number += roman[i]\n",
    "            n -= numbers[i]\n",
    "        i += 1\n",
    "    return roman_number\n",
    "\n",
    "def roman_to_int(n):\n",
    "    roman_numbers = {'I': 1, 'V': 5, 'X': 10, 'L': 50, 'C': 100, 'D': 500, 'M': 1000}\n",
    "    int_number = 0\n",
    "    for i in range(len(n)):\n",
    "        if i > 0 and roman_numbers[n[i]] > roman_numbers[n[i - 1]]:\n",
    "            int_number += roman_numbers[n[i]] - 2 * roman_numbers[n[i - 1]]\n",
    "        else:\n",
    "            int_number += roman_numbers[n[i]]\n",
    "    return int_number\n",
    "                                        \n",
    "print(int_to_roman(1))\n",
    "print(int_to_roman(2345))\n",
    "print(roman_to_int('XXIV'))\n",
    "print(roman_to_int('MMMCMLXXXVI'))\n",
    "\n"
   ]
  },
  {
   "cell_type": "markdown",
   "metadata": {},
   "source": [
    "## Zadanie 9* _(5pt)_\n",
    "\n",
    "Napisz program kalkulator, który pobiera wprowadzone wartości oraz funkcje z klawiatury następnie podaje wynik. W przypadku błędnych danych zgłasza błąd.\n",
    "\n",
    "Przykładowa sesja:\n",
    "```\n",
    "    Kalkulator\n",
    "    [1]: 2+5*10\n",
    "        52\n",
    "    [2]: sin(0.5)+cos(0.3)\n",
    "        1.434762027729809\n",
    "    [3]: 2^100\n",
    "        1267650600228229401496703205376\n",
    "```\n",
    "\n",
    "Przykładowy kod pobierania danych od użytkownika:\n",
    "\n",
    "```\n",
    "    x = input('Podaj x = ')\n",
    "```"
   ]
  },
  {
   "cell_type": "code",
   "execution_count": 8,
   "metadata": {},
   "outputs": [
    {
     "name": "stdout",
     "output_type": "stream",
     "text": [
      "Podaj działanie: sin('y')\n",
      "podałeś złe działanie!\n"
     ]
    }
   ],
   "source": [
    "from math import*\n",
    "try:\n",
    "    x=input(\"Podaj działanie: \")\n",
    "    x=x.replace('^', '**')\n",
    "    print(eval(x))\n",
    "except Exception:\n",
    "    print(\"podałeś złe działanie!\")\n",
    "    "
   ]
  },
  {
   "cell_type": "markdown",
   "metadata": {},
   "source": [
    "\n",
    "## Zadanie 10* _(10pt)_\n",
    "\n",
    "Napisz program, który rysuje na ekranie w trybie znakowym wykres funkcji zmiennej $x$. Wskazówka: utwórz  ,,tablicę dwuwymiarową'' o wymiarach 80x24 i narysuj wykres w tej tablicy. Następnie wynik wyświetl na ekranie.\n",
    "\n",
    "```\n",
    "        Podaj funkcje f(x) = sin(x)\n",
    "        Podaj początek przedziału a = -pi\n",
    "        Podaj koniec przedziału b = pi\n",
    "                                                |\n",
    "                                                |\n",
    "                                                |              ***********\n",
    "                                                |           ***           ***\n",
    "                                                |         **                 **\n",
    "                                                |        *                     *\n",
    "                                                |      **                       **\n",
    "                                                |     *                           *\n",
    "                                                |   **                             **\n",
    "                                                |  *                                 *\n",
    "                                                | *                                   *\n",
    "                                                |*                                     *\n",
    "        ----------------------------------------|---------------------------------------\n",
    "          *                                   * |\n",
    "           *                                 *  |\n",
    "            **                             **   |\n",
    "              *                           *     |\n",
    "               **                       **      |\n",
    "                 *                     *        |\n",
    "                  **                 **         |\n",
    "                    ***           ***           |\n",
    "                       ***** *****              |\n",
    "                            *                   |\n",
    "                                                |\n",
    "```"
   ]
  },
  {
   "cell_type": "code",
   "execution_count": 9,
   "metadata": {},
   "outputs": [
    {
     "name": "stdout",
     "output_type": "stream",
     "text": [
      "Podaj funkcje: sin(x)\n",
      "Podaj poczatek przedzialu: -5\n",
      "Podaj koniec przedzialu: 5\n",
      "min:  -0.999292788975378\n",
      "max:  0.999292788975378\n",
      "******                                  |         ******                      \n",
      "      *                                 |       **      **                    \n",
      "       **                               |      *          *                   \n",
      "         *                              |     *            *                  \n",
      "                                        |    *              *                 \n",
      "          *                             |                                     \n",
      "           *                            |   *                *                \n",
      "            *                           |  *                  *               \n",
      "                                        |                      *              \n",
      "             *                          | *                                   \n",
      "              *                         |*                      *             \n",
      "                                        |                        *            \n",
      "---------------*------------------------*-------------------------------------\n",
      "                *                      *|                         *           \n",
      "                                      * |                          *          \n",
      "                 *                      |                                     \n",
      "                  *                  *  |                           *         \n",
      "                   *                *   |                            *        \n",
      "                                        |                             *       \n",
      "                    *              *    |                                     \n",
      "                     *            *     |                              *      \n",
      "                      *          *      |                               **    \n",
      "                       **      **       |                                 *   \n",
      "                         ******         |                                  ***\n"
     ]
    }
   ],
   "source": [
    "from math import*\n",
    "def calc(n,expression):\n",
    "    x=n\n",
    "    try:\n",
    "        return str(eval(expression))\n",
    "    except:\n",
    "        return \"*\"\n",
    "\n",
    "function = input('Podaj funkcje: ')\n",
    "a = input('Podaj poczatek przedzialu: ')\n",
    "b = input('Podaj koniec przedzialu: ')\n",
    "tab=[[\" \"]*24 for i in range(80)]\n",
    "for i in range(24):\n",
    "    tab[40][i] = \"|\"\n",
    "for i in range(80):\n",
    "    tab[i][12] = \"-\"\n",
    "\n",
    "\n",
    "tup=(float(b)-float(a))/80\n",
    "result = []\n",
    "\n",
    "\n",
    "if(calc((float(a)), function)!=\"*\"): \n",
    "    max=float(calc((float(a)), function))\n",
    "else:\n",
    "    max=0\n",
    "\n",
    "min=max\n",
    "result.append(max)\n",
    "for i in range(1,80):                                   \n",
    "    if((calc((float(a)+tup*i),function))!=\"*\"):\n",
    "        x=float(calc((float(a)+tup*i),function))\n",
    "        if(x>max):\n",
    "            max=x\n",
    "        if(x<min):\n",
    "            min=x\n",
    "        result.append(str(x))\n",
    "    else:\n",
    "        result.append(\" \")\n",
    "\n",
    "print(\"min: \",min)\n",
    "print(\"max: \",max)\n",
    "\n",
    "\n",
    "\n",
    "vert=(max-min)/24\n",
    "\n",
    "for i in range(80):\n",
    "    tmp=vert\n",
    "    j=1\n",
    "    if(result[i]!=\" \"):\n",
    "        while((float(result[i])-min)>(j*tmp)):\n",
    "            j=j+1\n",
    "        tab[i][24-j] = \"*\"  \n",
    "\n",
    "\n",
    "for i in range(24):\n",
    "    for j in range(78):\n",
    "        print(tab[j][i], end = '')\n",
    "    print(\"\")"
   ]
  },
  {
   "cell_type": "code",
   "execution_count": null,
   "metadata": {},
   "outputs": [],
   "source": []
  }
 ],
 "metadata": {
  "kernelspec": {
   "display_name": "Python 3",
   "language": "python",
   "name": "python3"
  },
  "language_info": {
   "codemirror_mode": {
    "name": "ipython",
    "version": 3
   },
   "file_extension": ".py",
   "mimetype": "text/x-python",
   "name": "python",
   "nbconvert_exporter": "python",
   "pygments_lexer": "ipython3",
   "version": "3.6.9"
  }
 },
 "nbformat": 4,
 "nbformat_minor": 2
}
